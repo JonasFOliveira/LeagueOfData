{
 "cells": [
  {
   "cell_type": "code",
   "execution_count": 263,
   "metadata": {},
   "outputs": [],
   "source": [
    "import pandas as pd\n",
    "import re"
   ]
  },
  {
   "cell_type": "markdown",
   "metadata": {},
   "source": [
    "# #0 Importando o(s) datasets"
   ]
  },
  {
   "cell_type": "code",
   "execution_count": 272,
   "metadata": {},
   "outputs": [],
   "source": [
    "LeagueofLegends = pd.read_csv('Datasets/LeagueofLegends.csv')\n",
    "dfKills = pd.read_csv('Datasets/kills.csv')\n",
    "dfmatchinfo = pd.read_csv('Datasets/matchinfo.csv')\n"
   ]
  },
  {
   "cell_type": "markdown",
   "metadata": {},
   "source": [
    "# #1 Limpeza e organização dos dados"
   ]
  },
  {
   "cell_type": "code",
   "execution_count": 265,
   "metadata": {},
   "outputs": [
    {
     "name": "stdout",
     "output_type": "stream",
     "text": [
      "<class 'str'>\n",
      "<class 'numpy.int64'>\n"
     ]
    },
    {
     "data": {
      "text/plain": [
       "str"
      ]
     },
     "execution_count": 265,
     "metadata": {},
     "output_type": "execute_result"
    }
   ],
   "source": [
    "# Primeiro verifico o tipo de dado que compõe a coluna, se ele está ideal para uso ou se deve ser alterado\n",
    "print(type(LeagueofLegends['League'][0]))\n",
    "# Como a coluna League trata-se da liga na qual o dado foi obtido, logo, uma string\n",
    "print(type(LeagueofLegends['Year'][0]))\n",
    "# A coluna ano é a coluna do ano no qual o dado foi obtido, logo, um numero inteiro\n",
    "type(LeagueofLegends['Season'][0])\n",
    "type(LeagueofLegends['Type'][0])\n",
    "type(LeagueofLegends['blueTeamTag'][0])\n",
    "type(LeagueofLegends['bResult'][0])\n",
    "type(LeagueofLegends['rResult'][0])\n",
    "type(LeagueofLegends['redTeamTag'][0])\n",
    "type(LeagueofLegends['gamelength'][0]) #Em minutos\n",
    "type(LeagueofLegends['golddiff'][0]) #Transformar em Lista\n",
    "type(LeagueofLegends['goldblue'][0]) #Transformar em lista\n",
    "type(LeagueofLegends['bTowers'][0]) #Transformar em lista (Time,Lane,Type)\n",
    "type(LeagueofLegends['bInhibs'][0]) #Transformar em lista (Time, Type)\n",
    "type(LeagueofLegends['bDragons'][0]) #Transformar em lista (Time, Type), encontrar forma de contar dragões\n",
    "type(LeagueofLegends['bBarons'][0]) #Transformar em lista(qnt, Time)\n",
    "type(LeagueofLegends['bHeralds'][0]) #Transformar em lista(qnt, Time)\n",
    "type(LeagueofLegends['goldred'][0]) #Transformar em lista\n",
    "type(LeagueofLegends['rTowers'][0]) #Transformar em lista (Time,Lane,Type)\n",
    "type(LeagueofLegends['rInhibs'][0]) #Transformar em lista (Time, Type)\n",
    "type(LeagueofLegends['rDragons'][0]) #Transformar em lista (Time, Type), encontrar forma de contar dragões\n",
    "type(LeagueofLegends['rBarons'][0]) #Transformar em lista(qnt, Time)\n",
    "type(LeagueofLegends['rHeralds'][0]) #Transformar em lista(qnt, Time)\n",
    "\n",
    "type(LeagueofLegends['blueTopChamp'][0])\n",
    "type(LeagueofLegends['goldblueTop'][0]) #Transsformar em lista\n",
    "type(LeagueofLegends['blueJungleChamp'][0])\n",
    "type(LeagueofLegends['goldblueJungle'][0]) #Transsformar em lista\n",
    "type(LeagueofLegends['redMiddleChamp'][0])\n",
    "type(LeagueofLegends['goldblueMiddle'][0]) #Transsformar em lista\n",
    "type(LeagueofLegends['blueADCChamp'][0])\n",
    "type(LeagueofLegends['goldblueADC'][0]) #Transsformar em lista\n",
    "type(LeagueofLegends['blueSupportChamp'][0])\n",
    "type(LeagueofLegends['goldblueSupport'][0]) #Transsformar em lista\n",
    "type(LeagueofLegends['blueBans'][0]) #Transformar em lista\n",
    "type(LeagueofLegends['blueTop'][0])\n",
    "type(LeagueofLegends['blueJungle'][0])\n",
    "type(LeagueofLegends['blueMiddle'][0])\n",
    "type(LeagueofLegends['blueADC'][0])\n",
    "type(LeagueofLegends['blueSupport'][0])\n",
    "\n",
    "type(LeagueofLegends['redTopChamp'][0])\n",
    "type(LeagueofLegends['goldredTop'][0]) #Transsformar em lista\n",
    "type(LeagueofLegends['redJungleChamp'][0])\n",
    "type(LeagueofLegends['goldredJungle'][0]) #Transsformar em lista\n",
    "type(LeagueofLegends['redMiddleChamp'][0])\n",
    "type(LeagueofLegends['goldredMiddle'][0]) #Transsformar em lista\n",
    "type(LeagueofLegends['redADCChamp'][0])\n",
    "type(LeagueofLegends['goldredADC'][0]) #Transsformar em lista\n",
    "type(LeagueofLegends['redSupportChamp'][0])\n",
    "type(LeagueofLegends['goldredSupport'][0]) #Transsformar em lista\n",
    "type(LeagueofLegends['redBans'][0]) #Transformar em lista\n",
    "type(LeagueofLegends['redTop'][0])\n",
    "type(LeagueofLegends['redJungle'][0])\n",
    "type(LeagueofLegends['redMiddle'][0])\n",
    "type(LeagueofLegends['redADC'][0])\n",
    "type(LeagueofLegends['redSupport'][0])\n"
   ]
  },
  {
   "cell_type": "code",
   "execution_count": 266,
   "metadata": {},
   "outputs": [],
   "source": [
    "#Função para tranasformação simples de str para lista\n",
    "def transListSimple(data):\n",
    "    temp = []\n",
    "    if(type(data[0]) == str):\n",
    "        for i in range(len(data)):\n",
    "            temp.append(data[i].replace('[','').replace(']','').split(', '))\n",
    "        return temp\n",
    "    else:\n",
    "        return data"
   ]
  },
  {
   "cell_type": "code",
   "execution_count": 267,
   "metadata": {},
   "outputs": [],
   "source": [
    "LeagueofLegends['golddiff'] = transListSimple(LeagueofLegends['golddiff'])\n",
    "LeagueofLegends['goldblue'] = transListSimple(LeagueofLegends['goldblue'])\n",
    "LeagueofLegends['goldred'] = transListSimple(LeagueofLegends['goldred'])\n",
    "LeagueofLegends['goldblueTop'] = transListSimple(LeagueofLegends['goldblueTop'])\n",
    "LeagueofLegends['goldblueJungle'] = transListSimple(LeagueofLegends['goldblueJungle'])\n",
    "LeagueofLegends['goldblueMiddle'] = transListSimple(LeagueofLegends['goldblueMiddle'])\n",
    "LeagueofLegends['goldblueADC'] = transListSimple(LeagueofLegends['goldblueADC'])\n",
    "LeagueofLegends['goldblueSupport'] = transListSimple(LeagueofLegends['goldblueSupport'])\n",
    "LeagueofLegends['blueBans'] = transListSimple(LeagueofLegends['blueBans'])\n",
    "LeagueofLegends['goldredTop'] = transListSimple(LeagueofLegends['goldredTop'])\n",
    "LeagueofLegends['goldredJungle'] = transListSimple(LeagueofLegends['goldredJungle'])\n",
    "LeagueofLegends['goldredMiddle'] = transListSimple(LeagueofLegends['goldredMiddle'])\n",
    "LeagueofLegends['goldredADC'] = transListSimple(LeagueofLegends['goldredADC'])\n",
    "LeagueofLegends['goldredSupport'] = transListSimple(LeagueofLegends['goldredSupport'])\n",
    "LeagueofLegends['redBans'] = transListSimple(LeagueofLegends['redBans'])\n"
   ]
  },
  {
   "cell_type": "markdown",
   "metadata": {},
   "source": [
    "## APAGAR CELULA DE BAIXO"
   ]
  },
  {
   "cell_type": "code",
   "execution_count": 268,
   "metadata": {},
   "outputs": [],
   "source": [
    "def killDF(column):\n",
    "    out = []\n",
    "    for i in range(len(LeagueofLegends[f'{column}'])):   \n",
    "        string = LeagueofLegends[f'{column}'][i][1:-1:]\n",
    "        lista = string.split('], [')\n",
    "        lista[0] = lista[0][1::] #primeiro elemento sem o '['\n",
    "        lista[len(lista)-1] = lista[len(lista)-1][:-1:] #ultimo elemento sem o ']'\n",
    "\n",
    "        # ------------------------------------------------------\n",
    "        temp = []\n",
    "        for j in lista:    \n",
    "            if (j != \"\"):\n",
    "                c = j.replace(re.search(r'(?<=\\[).*(?=\\])', j)[0], '') #retirando a lista da string\n",
    "                d = c.split(', ')\n",
    "\n",
    "                d[0] = float(d[0].replace('.',''))/10**len(re.search(r'(?<=\\.).*', d[0])[0])\n",
    "                d[1] = d[1].replace(\"'\",\"\")\n",
    "                d[2] = d[2].replace(\"'\",\"\")\n",
    "                d[3] = re.search(r'(?<=\\[).*(?=\\])', j)[0].split(',')\n",
    "                if d[4] != \"\": d[4] = float(d[4])\n",
    "                if d[5] != \"\": d[5] = float(d[5])\n",
    "                \n",
    "                if (len(d[3]) > 0):\n",
    "                    for k in range(1,len(d[3])):\n",
    "                        d[3][k] = d[3][k].replace(\"'\",\"\")\n",
    "                    for k in range(len(d[3])):\n",
    "                        d[3][k] = d[3][k].replace(\" '\",\"\").replace(\"'\",\"\")\n",
    "\n",
    "            else:\n",
    "                d = ['NotKilled']\n",
    "            temp.append(d)\n",
    "        out.append(temp)\n",
    "\n",
    "    return out"
   ]
  },
  {
   "cell_type": "code",
   "execution_count": 269,
   "metadata": {},
   "outputs": [],
   "source": [
    "jogos = range(len(dfKills['Address'].unique()))\n",
    "JogosLink = dfKills['Address'].unique()\n",
    "df_jogos = pd.DataFrame(data =JogosLink, index=jogos).reset_index()"
   ]
  },
  {
   "cell_type": "code",
   "execution_count": null,
   "metadata": {},
   "outputs": [],
   "source": []
  },
  {
   "cell_type": "code",
   "execution_count": 270,
   "metadata": {},
   "outputs": [],
   "source": [
    "i = 0\n",
    "j = 0\n",
    "GameNu = []\n",
    "while (i < len(df_jogos[0]) and j < len(dfKills['Address'])):\n",
    "    while(df_jogos[0][i] == dfKills['Address'][j]):\n",
    "        GameNu.append(i)\n",
    "        j+=1\n",
    "    i+=1"
   ]
  },
  {
   "cell_type": "code",
   "execution_count": 271,
   "metadata": {},
   "outputs": [
    {
     "data": {
      "text/plain": [
       "191069"
      ]
     },
     "execution_count": 271,
     "metadata": {},
     "output_type": "execute_result"
    }
   ],
   "source": [
    "len(dfKills['Address'])"
   ]
  }
 ],
 "metadata": {
  "kernelspec": {
   "display_name": "Python 3.8.10 64-bit",
   "language": "python",
   "name": "python3"
  },
  "language_info": {
   "codemirror_mode": {
    "name": "ipython",
    "version": 3
   },
   "file_extension": ".py",
   "mimetype": "text/x-python",
   "name": "python",
   "nbconvert_exporter": "python",
   "pygments_lexer": "ipython3",
   "version": "3.8.10"
  },
  "orig_nbformat": 4,
  "vscode": {
   "interpreter": {
    "hash": "916dbcbb3f70747c44a77c7bcd40155683ae19c65e1c03b4aa3499c5328201f1"
   }
  }
 },
 "nbformat": 4,
 "nbformat_minor": 2
}
